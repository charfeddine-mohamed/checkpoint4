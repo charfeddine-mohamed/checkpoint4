h=30
d=[100,150,170]
c=50
f=len(d)
print(f)
l=1
for x in range (0,(len-1)):
    l*=1+l
    print(l)
        
