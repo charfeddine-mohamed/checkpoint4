items= "green-red-yellow-black-white"
list= items.split("-")
list.sort()

print("-".join(list))
