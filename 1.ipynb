def maxfunction (a,b,c) :
    maxfunction(5,8,6)
    maxi=a
    if b>maxi :
        maxi=b
        if c>maxi :
            return (c)

