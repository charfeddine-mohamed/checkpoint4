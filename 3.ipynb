#part1
thelist=[3,6,7,5,6,8]
listnumber=len(thelist)
listeven1=thelist[0:listnumber:2]
listodd1=thelist[1:listnumber:2]
def listmultiple(content1):
    x=1
    for y in content1 :
        x *=y
    return x
def listsum(l):
    tot=0
    for val in l:
        tot=tot+val
    return tot
print ("multiple is" ,listmultiple(thelist),"sum is",listsum(thelist))
#part2
def listeven(sum0):
    m=1
    for n in sum0 :
        m *=n
    return m
def listodd(multiple0):
    tota=0
    for valo in multiple0:
        tota=tota+valo
    return tota
print ("sum is" ,listodd(listodd1),"multiple is",listeven(listeven1))

