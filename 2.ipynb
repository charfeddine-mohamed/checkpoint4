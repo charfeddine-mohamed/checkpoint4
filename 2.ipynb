def calculation(a,b):
    if a>=b:
        return((a+b),(a-b))
    if b>a:
        return((a+b),(b-a))
print(calculation(7,7))

